











#import the libraries
import pandas as pd
import numpy as np


#read the dataset and check the first five rows
inp0 = pd.read_csv('googleplaystore_v2.csv')



#Check the shape of the dataframe
inp0.head()


inp0.info()








#Check the datatypes of all the columns of the dataframe
inp0.isnull().sum()





#Check the number of null values in the columns






#Drop the rows having null values in the Rating field
inp1=inp0[-inp0.Rating.isnull()]
inp1.shape
#Check the shape of the dataframe
inp1.Rating.isnull().sum()
inp1 =inp1[-(inp1['Android Ver'].isnull() & (inp1.Category=="1.9"))]


# Check the number of nulls in the Rating field again to cross-verify



#Question
#Check the number of nulls in the dataframe again and find the total number of null values
inp1.isnull().sum()



#Inspect the nulls in the Android Version column
inp1[inp1['Android Ver'].isnull()]


#Drop the row having shifted values

#Check the nulls againin Android version column to cross-verify





#Check the most common value in the Android version column
inp1['Android Ver'].value_counts()


#Fill up the nulls in the Android Version column with the above value
inp1['Android Ver'].mode()[0]


inp1['Android Ver'] = inp1['Android Ver'].fillna(inp1['Android Ver'].mode()[0])


inp1['Android Ver'].isnull().sum()#Check the nulls in the Android version column again to cross-verify



#Check the nulls in the entire dataframe again
inp1.isnull().sum()


#Check the most common value in the Current version column



#Replace the nulls in the Current version column with the above value




# Question : Check the most common value in the Current version column again






#Check the datatypes of all the columns 



#Question - Try calculating the average price of all apps having the Android version as "4.1 and up" 
inp1["Android Ver"].value_counts()




inp1['Current Ver'] = inp1['Current Ver'].fillna(inp1['Current Ver'].mode()[0])


#Analyse the Price column to check the issue

inp1["Current Ver"].value_counts()



inp1.isnull().sum()


#Write the function to make the changes

inp1["Price"].value_counts()


#Verify the dtype of Price once again
inp1.Price.dtype


inp1.Price.value_counts()


inp1.Price = inp1.Price.apply(lambda x: 0 if x=="0" else float(x[1:]))



inp1.info()


#Analyse the Reviews column
inp1.Reviews.value_counts()



#Change the dtype of this column

inp1.Reviews = inp1.Reviews.astype("int32")
#Check the quantitative spread of this dataframe
inp1.Reviews.describe()



#Analyse the Installs Column

inp1.Installs.head()


#Question Clean the Installs Column and find the approximate number of apps at the 50th percentile.
inp1.Installs = inp1.Installs.apply(lambda x: x.replace(',',''))


inp1.Installs.head()


inp1.Installs = inp1.Installs.apply(lambda x: x.replace('+',''))
inp1.Installs.describe()


inp1.Installs = inp1.Installs.astype("int64")


inp1.Installs.describe()








#Perform the sanity checks on the Reviews column
inp1.dtypes


inp1.Rating.describe()


inp1[inp1.Reviews > inp1.Installs].shape


inp1[inp1.Reviews > inp1.Installs]


#perform the sanity checks on prices of free apps 



inp1 =inp1[inp1.Reviews <= inp1.Installs]


inp1[inp1.Reviews > inp1.Installs].shape


inp1[(inp1.Type == "Free") & (inp1.Price>0)]

















#import the plotting libraries
import matplotlib.pyplot as plt


#Create a box plot for the price column
plt.figure(figsize = [16,10])
plt.boxplot(inp1['Price'])
plt.show()


#Check the apps with price more than 200
#inp1['Price'].describe()
inp1[inp1.Price>200]


#Clean the Price column
inp1=inp1[inp1.Price<200]
inp1.Price.describe()





#Create a box plot for paid apps

plt.boxplot(inp1['Price'])



#Check the apps with price more than 30



#Clean the Price column again
inp1=inp1[inp1.Price<=30]
inp1.shape














plt.hist(inp1.Reviews)


plt.boxplot(inp1.Reviews)








#Create a histogram of the Reviews
plt.hist(inp1.Reviews)


#Create a boxplot of the Reviews column

plt.boxplot(inp1.Reviews)


#Check records with 1 million reviews
inp1[inp1.Reviews>10000000]


#Drop the above records

inp1=inp1[inp1.Reviews<=10000000]


#Question - Create a histogram again and check the peaks

plt.hist(inp1.Reviews)


plt.boxplot(inp1.Installs)


inp1.Installs.describe()



inp1.Installs.shape


inp1 = inp1[inp1.Installs <= 10000000]




inp1.Installs.shape


#Question - Create a box plot for the Installs column and report back the IQR





plt.hist(inp1.Size)


inp1.Size.describe()



plt.boxplot(inp1.Size)


#Question - CLean the Installs by removing all the apps having more than or equal to 100 million installs


#Plot a histogram for Size as well.



#Question - Create a boxplot for the Size column and report back the median value








#import the necessary libraries
import warnings
warnings.filterwarnings("ignore")














#Create a distribution plot for rating
inp1.Rating.plot.hist()



import seaborn as sns


sns.distplot(inp1.Rating,kde=False)


#Change the number of bins

sns.distplot(inp1.Rating,kde=True,bins=15,vertical=True)





#Change the colour of bins to green
sns.distplot(inp1.Rating,kde=False, color='g')


sns.distplot(inp1.Rating,kde=False, color='g')
plt.title("Distribution of Ratings", fontsize=12)


#Apply matplotlib functionalities
sns.set_style("dark")
sns.distplot(inp1.Rating,kde=False, color='g')
plt.title("Distribution of Ratings", fontsize=12)












#Check all the styling options
plt.style.available


#Change the number of bins to 20
plt.style.use('tableau-colorblind10')
sns.distplot(inp1.Rating,kde=True,bins=15)


plt.style.use('ggplot')
sns.distplot(inp1.Rating,kde=True,bins=20)


plt.style.use('dark_background')
sns.distplot(inp1.Rating,kde=True,bins=20)


plt.style.use("default")
get_ipython().run_line_magic("matplotlib", " inline")


sns.distplot(inp1.Rating,kde=True,bins=20)




















#Analyse the Content Rating column
inp1["Content Rating"].value_counts()





inp1.shape


#Remove the rows with values which are less represented 
inp1=inp1[~inp1['Content Rating'].isin(["Adults only 18","Unrated"])]


#Reset the index
inp1.reset_index(inplace=True,drop=True)


inp1.info()


inp1["Content Rating"].value_counts()


#Check the apps belonging to different categories of Content Rating 



#Plot a pie chart
inp1["Content Rating"].value_counts().plot.pie()



#Plot a bar chart
inp1["Content Rating"].value_counts().plot.bar()
plt.show()



#Question - Plot a bar plot for checking the 4th highest Android version type
inp1["Android Ver"].value_counts().plot.bar()






























###Size vs Rating

##Plot a scatter-plot in the matplotlib way between Size and Rating



### Plot the same thing now using a jointplot



## Plot a jointplot for Price and Rating






##Plot a reg plot for Price and Rating and observe the trend




## Question - Plot a reg plot for Price and Rating again for only the paid apps.





















## Create a pair plot for Reviews, Size, Price and Rating










##Plot a bar plot of Content Rating vs Average Rating 



##Plot the bar plot again with Median Rating



##Plot the above bar plot using the estimator parameter




##Plot the bar plot with only the 5th percentile of Ratings



##Question - Plot the bar plot with the minimum Rating






##Plot a box plot of Rating vs Content Rating



##Question - Plot a box plot for the Rating column only



##Question - Plot a box plot of Ratings across the 4 most popular Genres





















##Ratings vs Size vs Content Rating

##Prepare buckets for the Size column using pd.qcut




##Create a pivot table for Size_buckets and Content Rating with values set to Rating



##Change the aggregation to median



##Change the aggregation to 20th percentile



##Store the pivot table in a separate variable



##Plot a heat map



##Apply customisations



##Question - Replace Content Rating with Review_buckets in the above heat map
##Keep the aggregation at minimum value for Rating












## Extract the month from the Last Updated Date




## Find the average Rating across all the months




## Plot a line graph













## Create a pivot table for Content Rating and updated Month with the values set to Installs



##Store the table in a separate variable



##Plot the stacked bar chart.



##Plot the stacked bar chart again wrt to the proportions.













#Install plotly



#Take the table you want to plot in a separate variable



#Import the plotly libraries



#Prepare the plot

