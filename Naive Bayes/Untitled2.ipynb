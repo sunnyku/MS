{
 "cells": [
  {
   "cell_type": "code",
   "execution_count": 3,
   "id": "4d79162b-af9f-4a17-a46e-e75ac3e0aaac",
   "metadata": {},
   "outputs": [
    {
     "name": "stdout",
     "output_type": "stream",
     "text": [
      "Training Data Sample:\n",
      "  class                                               text\n",
      "0   Pos   a common complaint amongst film critics is   ...\n",
      "1   Pos   whew   this film oozes energy   the kind of b...\n",
      "2   Pos   steven spielberg s   amistad     which is bas...\n",
      "3   Pos   he has spent his entire life in an awful litt...\n",
      "4   Pos   being that it is a foreign language film with...\n",
      "\n",
      "Test Data Sample:\n",
      "  class                                               text\n",
      "0   Pos   films adapted from comic books have had plent...\n",
      "1   Pos   every now and then a movie comes along from a...\n",
      "2   Pos   you ve got mail works alot better than it des...\n",
      "3   Pos      jaws   is a rare film that grabs your atte...\n",
      "4   Pos   moviemaking is a lot like being the general m...\n",
      "\n",
      "Accuracy of Bernoulli Naive Bayes model: 0.79\n"
     ]
    }
   ],
   "source": [
    "import pandas as pd\n",
    "from sklearn.feature_extraction.text import CountVectorizer\n",
    "from sklearn.naive_bayes import BernoulliNB\n",
    "from sklearn.metrics import accuracy_score\n",
    "import requests\n",
    "from io import StringIO\n",
    "\n",
    "# URLs for the training and test data\n",
    "train_url = \"https://ml-course2-upgrad.s3.amazonaws.com/Naive+Bayes/Naive+Bayes+for+Text+Classification/movie_review_train.csv\"\n",
    "test_url = \"https://ml-course2-upgrad.s3.amazonaws.com/Naive+Bayes/Naive+Bayes+for+Text+Classification/movie_review_test.csv\"\n",
    "\n",
    "# Function to load data from URL\n",
    "def load_data(url):\n",
    "    response = requests.get(url)\n",
    "    csv_data = StringIO(response.text)\n",
    "    df = pd.read_csv(csv_data)\n",
    "    return df\n",
    "\n",
    "# Load training and test data\n",
    "train_data = load_data(train_url)\n",
    "test_data = load_data(test_url)\n",
    "\n",
    "# Display the first few rows of the training data\n",
    "print(\"Training Data Sample:\")\n",
    "print(train_data.head())\n",
    "\n",
    "# Display the first few rows of the test data\n",
    "print(\"\\nTest Data Sample:\")\n",
    "print(test_data.head())\n",
    "\n",
    "# Extract X and y from training and test data\n",
    "X_train = train_data['text'].values\n",
    "y_train = train_data['class'].values\n",
    "X_test = test_data['text'].values\n",
    "y_test = test_data['class'].values\n",
    "\n",
    "# Initialize CountVectorizer with specified parameters\n",
    "vectorizer = CountVectorizer(stop_words='english', min_df=0.03, max_df=0.8)\n",
    "\n",
    "# Fit and transform CountVectorizer on the training data\n",
    "X_train_transformed = vectorizer.fit_transform(X_train)\n",
    "\n",
    "# Transform test data using the fitted CountVectorizer\n",
    "X_test_transformed = vectorizer.transform(X_test)\n",
    "\n",
    "# Train Bernoulli Naive Bayes model\n",
    "nb_classifier = BernoulliNB()\n",
    "nb_classifier.fit(X_train_transformed, y_train)\n",
    "\n",
    "# Predict classes for test set\n",
    "y_pred = nb_classifier.predict(X_test_transformed)\n",
    "\n",
    "# Calculate accuracy of the model\n",
    "accuracy = accuracy_score(y_test, y_pred)\n",
    "\n",
    "# Print the accuracy\n",
    "print(\"\\nAccuracy of Bernoulli Naive Bayes model:\", accuracy)\n"
   ]
  }
 ],
 "metadata": {
  "kernelspec": {
   "display_name": "Python 3 (ipykernel)",
   "language": "python",
   "name": "python3"
  },
  "language_info": {
   "codemirror_mode": {
    "name": "ipython",
    "version": 3
   },
   "file_extension": ".py",
   "mimetype": "text/x-python",
   "name": "python",
   "nbconvert_exporter": "python",
   "pygments_lexer": "ipython3",
   "version": "3.12.4"
  }
 },
 "nbformat": 4,
 "nbformat_minor": 5
}
