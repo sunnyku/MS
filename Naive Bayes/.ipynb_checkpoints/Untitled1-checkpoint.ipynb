{
 "cells": [
  {
   "cell_type": "code",
   "execution_count": 3,
   "id": "df7bb405-5a35-43f5-8504-c0718ba152fc",
   "metadata": {},
   "outputs": [
    {
     "name": "stdout",
     "output_type": "stream",
     "text": [
      "Confusion Matrix:\n",
      "[[177  23]\n",
      " [ 61 139]]\n",
      "\n",
      "Number of reviews actually negative but classified as positive (False Positives): 23\n"
     ]
    }
   ],
   "source": [
    "import pandas as pd\n",
    "from sklearn.feature_extraction.text import CountVectorizer\n",
    "from sklearn.naive_bayes import BernoulliNB\n",
    "from sklearn.metrics import confusion_matrix\n",
    "import requests\n",
    "from io import StringIO\n",
    "\n",
    "# URLs for the training and test data\n",
    "train_url = \"https://ml-course2-upgrad.s3.amazonaws.com/Naive+Bayes/Naive+Bayes+for+Text+Classification/movie_review_train.csv\"\n",
    "test_url = \"https://ml-course2-upgrad.s3.amazonaws.com/Naive+Bayes/Naive+Bayes+for+Text+Classification/movie_review_test.csv\"\n",
    "\n",
    "# Function to load data from URL\n",
    "def load_data(url):\n",
    "    response = requests.get(url)\n",
    "    csv_data = StringIO(response.text)\n",
    "    df = pd.read_csv(csv_data)\n",
    "    return df\n",
    "\n",
    "# Load training and test data\n",
    "train_data = load_data(train_url)\n",
    "test_data = load_data(test_url)\n",
    "\n",
    "# Extract X and y from training and test data\n",
    "X_train = train_data['text'].values\n",
    "y_train = train_data['class'].values\n",
    "X_test = test_data['text'].values\n",
    "y_test = test_data['class'].values\n",
    "\n",
    "# Initialize CountVectorizer with specified parameters\n",
    "vectorizer = CountVectorizer(stop_words='english', min_df=0.03, max_df=0.8)\n",
    "\n",
    "# Fit and transform CountVectorizer on the training data\n",
    "X_train_transformed = vectorizer.fit_transform(X_train)\n",
    "\n",
    "# Transform test data using the fitted CountVectorizer\n",
    "X_test_transformed = vectorizer.transform(X_test)\n",
    "\n",
    "# Train Bernoulli Naive Bayes model\n",
    "nb_classifier = BernoulliNB()\n",
    "nb_classifier.fit(X_train_transformed, y_train)\n",
    "\n",
    "# Predict classes for test set\n",
    "y_pred = nb_classifier.predict(X_test_transformed)\n",
    "\n",
    "# Calculate confusion matrix\n",
    "cm = confusion_matrix(y_test, y_pred)\n",
    "\n",
    "# Print confusion matrix\n",
    "print(\"Confusion Matrix:\")\n",
    "print(cm)\n",
    "\n",
    "# Extract values from confusion matrix\n",
    "TN = cm[0, 0]\n",
    "FP = cm[0, 1]\n",
    "FN = cm[1, 0]\n",
    "TP = cm[1, 1]\n",
    "\n",
    "# Calculate the number of reviews actually negative but classified as positive (False Positives)\n",
    "false_positives = FP\n",
    "\n",
    "# Print the result\n",
    "print(\"\\nNumber of reviews actually negative but classified as positive (False Positives):\", false_positives)\n"
   ]
  }
 ],
 "metadata": {
  "kernelspec": {
   "display_name": "Python 3 (ipykernel)",
   "language": "python",
   "name": "python3"
  },
  "language_info": {
   "codemirror_mode": {
    "name": "ipython",
    "version": 3
   },
   "file_extension": ".py",
   "mimetype": "text/x-python",
   "name": "python",
   "nbconvert_exporter": "python",
   "pygments_lexer": "ipython3",
   "version": "3.12.4"
  }
 },
 "nbformat": 4,
 "nbformat_minor": 5
}
