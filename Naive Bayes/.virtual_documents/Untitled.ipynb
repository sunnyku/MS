import pandas as pd
from sklearn.feature_extraction.text import CountVectorizer
from sklearn.naive_bayes import MultinomialNB
from sklearn.model_selection import train_test_split
from sklearn.metrics import accuracy_score

# Load datasets from URLs
train_data = pd.read_csv("movie_review_train.csv")
test_data = pd.read_csv("movie_review_test.csv")



from sklearn.feature_extraction.text import CountVectorizer
vect = CountVectorizer(stop_words='english')


vect.fit(X_train)


dict = CountVectorizer(stop_words='english')
dict.fit(X_train)
X_train_vocabs_dict = dict.get_feature_names()
len(X_train_vocabs_dict)





train_features = vect.fit_transform(train_data["review"])




