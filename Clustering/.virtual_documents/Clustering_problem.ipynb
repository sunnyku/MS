import pandas as pd
from sklearn.preprocessing import StandardScaler
from scipy.cluster.hierarchy import dendrogram, linkage, fcluster


#data = pd.read_csv('Cricket1.csv
data = pd.read_csv("Cricket.csv", sep=",", encoding="ISO-8859-1", header=0)



from sklearn.preprocessing import StandardScaler

# Create a StandardScaler object
scaler = StandardScaler()

# Select features to scale (replace 'Strike_Rate' and 'Avg' with actual feature names)
features_to_scale = ['SR', 'Ave']

# Standardize the selected features
scaled_data = scaler.fit_transform(data[features_to_scale])


# Calculate distance matrix using Euclidean distance
distance_matrix = linkage(scaled_data, method='complete')

# Create a dendrogram
dendrogram(distance_matrix)


plt.figure(figsize=(10, 7))
dendrogram(linked, labels=list(data.index), orientation='top', distance_sort='ascending', show_leaf_counts=True)
plt.show()


clusters = fcluster(linked, 4, criterion='maxclust')



data['Cluster'] = clusters



print(data)



data


cluster_number = 1
cluster_data = data[data['Cluster'] == cluster_number]

print(f"\nPlayers in Cluster {cluster_number}:")
print(cluster_data)


cluster_number = 2
cluster_data = data[data['Cluster'] == cluster_number]

print(f"\nPlayers in Cluster {cluster_number}:")
print(cluster_data)


cluster_number = 3
cluster_data = data[data['Cluster'] == cluster_number]

print(f"\nPlayers in Cluster {cluster_number}:")
print(cluster_data)


cluster_number = 4
cluster_data = data[data['Cluster'] == cluster_number]

print(f"\nPlayers in Cluster {cluster_number}:")
print(cluster_data)
