import pandas as pd
from sklearn.cluster import KMeans
from sklearn.preprocessing import StandardScaler

# Load the dataset
#url = 'https://ml-course3-upgrad.s3.amazonaws.com/Unsupervised+Learning_+Clustering/Executing+K+Means+in+Python/Cricket.csv'
df = pd.read_csv("Cricket.csv", sep=",", encoding="ISO-8859-1", header=0)

# Inspect the data
print(df.head())





df.describe


# Preprocessing: Select relevant features (assuming runs, centuries, etc., are the columns to use)
features = df[['Ave', 'SR']]  # Example columns, replace with the actual columns in your dataset

# Standardize the data
scaler = StandardScaler()
scaled_features = scaler.fit_transform(features)

# Apply K-Means clustering
kmeans = KMeans(n_clusters=4, random_state=42)
df['Cluster'] = kmeans.fit_predict(scaled_features)

# Find the cluster of Virat Kohli
virat_cluster = df[df['Player'] == 'V Kohli (INDIA)']['Cluster'].values[0]

# Find all players in the same cluster as Virat Kohli
same_cluster_players = df[df['Cluster'] == virat_cluster]['Player']

print("Players in the same cluster as Virat Kohli:")
print(same_cluster_players)
