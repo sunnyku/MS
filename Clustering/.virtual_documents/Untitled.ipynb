import pandas as pd
from sklearn.cluster import KMeans
from sklearn.preprocessing import StandardScaler
from scipy.cluster.hierarchy import dendrogram, linkage, fcluster

import matplotlib.pyplot as plt

# Load the dataset
#url = 'https://ml-course3-upgrad.s3.amazonaws.com/Unsupervised+Learning_+Clustering/Executing+K+Means+in+Python/Cricket.csv'
df = pd.read_csv("Cricket.csv", sep=",", encoding="ISO-8859-1", header=0)

# Inspect the data
print(df.head())







# Select relevant columns (Strike Rate and Average)
data = df[['SR', 'Ave']]

# Scale the data
scaler = StandardScaler()
scaled_data = scaler.fit_transform(data)

# Perform hierarchical clustering using complete linkage
linked = linkage(scaled_data, method='complete')

# Plot the dendrogram
plt.figure(figsize=(10, 7))
dendrogram(linked, labels=list(data.index), orientation='top', distance_sort='ascending', show_leaf_counts=True)
plt.show()

# Cut the tree to form 4 clusters
clusters = fcluster(linked, 4, criterion='maxclust')

# Add the cluster information to the dataset
data['Cluster'] = clusters

# Print the clusters to see which players are in which cluster
print(data)



df.describe


# Preprocessing: Select relevant features (assuming runs, centuries, etc., are the columns to use)
features = df[['Ave', 'SR']]  # Example columns, replace with the actual columns in your dataset

# Standardize the data
scaler = StandardScaler()
scaled_features = scaler.fit_transform(features)

# Apply K-Means clustering
kmeans = KMeans(n_clusters=4, random_state=42)
df['Cluster'] = kmeans.fit_predict(scaled_features)

# Find the cluster of Virat Kohli
virat_cluster = df[df['Player'] == 'V Kohli (INDIA)']['Cluster'].values[0]

# Find all players in the same cluster as Virat Kohli
same_cluster_players = df[df['Cluster'] == virat_cluster]['Player']

print("Players in the same cluster as Virat Kohli:")
print(same_cluster_players)
