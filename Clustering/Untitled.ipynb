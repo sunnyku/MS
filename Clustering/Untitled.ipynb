{
 "cells": [
  {
   "cell_type": "code",
   "execution_count": 17,
   "id": "6ba4ee51-5714-429d-914d-dce03ca8e9a3",
   "metadata": {},
   "outputs": [
    {
     "name": "stdout",
     "output_type": "stream",
     "text": [
      "                        Player       Span  Mat  Inns  NO   Runs    HS    Ave  \\\n",
      "0         SR Tendulkar (INDIA)  1989-2012  463   452  41  18426  200*  44.83   \n",
      "1  KC Sangakkara (Asia/ICC/SL)  2000-2015  404   380  41  14234   169  41.98   \n",
      "2         RT Ponting (AUS/ICC)  1995-2012  375   365  39  13704   164  42.03   \n",
      "3      ST Jayasuriya (Asia/SL)  1989-2011  445   433  18  13430   189  32.36   \n",
      "4   DPMD Jayawardene (Asia/SL)  1998-2015  448   418  39  12650   144  33.37   \n",
      "\n",
      "      BF     SR  100  50   0  \n",
      "0  21367  86.23   49  96  20  \n",
      "1  18048  78.86   25  93  15  \n",
      "2  17046  80.39   30  82  20  \n",
      "3  14725  91.20   28  68  34  \n",
      "4  16020  78.96   19  77  28  \n"
     ]
    }
   ],
   "source": [
    "import pandas as pd\n",
    "from sklearn.cluster import KMeans\n",
    "from sklearn.preprocessing import StandardScaler\n",
    "from scipy.cluster.hierarchy import dendrogram, linkage, fcluster\n",
    "\n",
    "import matplotlib.pyplot as plt\n",
    "\n",
    "# Load the dataset\n",
    "#url = 'https://ml-course3-upgrad.s3.amazonaws.com/Unsupervised+Learning_+Clustering/Executing+K+Means+in+Python/Cricket.csv'\n",
    "df = pd.read_csv(\"Cricket.csv\", sep=\",\", encoding=\"ISO-8859-1\", header=0)\n",
    "\n",
    "# Inspect the data\n",
    "print(df.head())\n",
    "\n",
    "\n"
   ]
  },
  {
   "cell_type": "code",
   "execution_count": 18,
   "id": "c093998c-3b02-43e0-8203-bdb1524fbf2f",
   "metadata": {},
   "outputs": [
    {
     "data": {
      "image/png": "[encoded data removed]",
      "text/plain": [
       "<Figure size 1000x700 with 1 Axes>"
      ]
     },
     "metadata": {},
     "output_type": "display_data"
    },
    {
     "name": "stdout",
     "output_type": "stream",
     "text": [
      "       SR    Ave  Cluster\n",
      "0   86.23  44.83        4\n",
      "1   78.86  41.98        4\n",
      "2   80.39  42.03        4\n",
      "3   91.20  32.36        1\n",
      "4   78.96  33.37        3\n",
      "..    ...    ...      ...\n",
      "74  64.92  45.03        4\n",
      "75  73.75  43.40        4\n",
      "76  76.98  35.36        3\n",
      "77  92.44  39.75        4\n",
      "78  81.25  29.70        3\n",
      "\n",
      "[79 rows x 3 columns]\n"
     ]
    },
    {
     "name": "stderr",
     "output_type": "stream",
     "text": [
      "/tmp/ipykernel_64814/3903327504.py:20: SettingWithCopyWarning: \n",
      "A value is trying to be set on a copy of a slice from a DataFrame.\n",
      "Try using .loc[row_indexer,col_indexer] = value instead\n",
      "\n",
      "See the caveats in the documentation: https://pandas.pydata.org/pandas-docs/stable/user_guide/indexing.html#returning-a-view-versus-a-copy\n",
      "  data['Cluster'] = clusters\n"
     ]
    }
   ],
   "source": [
    "\n",
    "\n",
    "# Select relevant columns (Strike Rate and Average)\n",
    "data = df[['SR', 'Ave']]\n",
    "\n",
    "# Scale the data\n",
    "scaler = StandardScaler()\n",
    "scaled_data = scaler.fit_transform(data)\n",
    "\n",
    "# Perform hierarchical clustering using complete linkage\n",
    "linked = linkage(scaled_data, method='complete')\n",
    "\n",
    "# Plot the dendrogram\n",
    "plt.figure(figsize=(10, 7))\n",
    "dendrogram(linked, labels=list(data.index), orientation='top', distance_sort='ascending', show_leaf_counts=True)\n",
    "plt.show()\n",
    "\n",
    "# Cut the tree to form 4 clusters\n",
    "clusters = fcluster(linked, 4, criterion='maxclust')\n",
    "\n",
    "# Add the cluster information to the dataset\n",
    "data['Cluster'] = clusters\n",
    "\n",
    "# Print the clusters to see which players are in which cluster\n",
    "print(data)\n"
   ]
  },
  {
   "cell_type": "code",
   "execution_count": 6,
   "id": "3c3d38e3-e512-4c43-ae42-369093915eae",
   "metadata": {},
   "outputs": [
    {
     "data": {
      "text/plain": [
       "<bound method NDFrame.describe of                          Player       Span  Mat  Inns  NO   Runs    HS    Ave  \\\n",
       "0          SR Tendulkar (INDIA)  1989-2012  463   452  41  18426  200*  44.83   \n",
       "1   KC Sangakkara (Asia/ICC/SL)  2000-2015  404   380  41  14234   169  41.98   \n",
       "2          RT Ponting (AUS/ICC)  1995-2012  375   365  39  13704   164  42.03   \n",
       "3       ST Jayasuriya (Asia/SL)  1989-2011  445   433  18  13430   189  32.36   \n",
       "4    DPMD Jayawardene (Asia/SL)  1998-2015  448   418  39  12650   144  33.37   \n",
       "..                          ...        ...  ...   ...  ..    ...   ...    ...   \n",
       "74            CG Greenidge (WI)  1975-1991  128   127  13   5134  133*  45.03   \n",
       "75          Misbah-ul-Haq (PAK)  2002-2015  162   149  31   5122   96*  43.40   \n",
       "76         PD Collingwood (ENG)  2001-2011  197   181  37   5092  120*  35.36   \n",
       "77              A Symonds (AUS)  1998-2009  198   161  33   5088   156  39.75   \n",
       "78      Abdul Razzaq (Asia/PAK)  1996-2011  265   228  57   5080   112  29.70   \n",
       "\n",
       "       BF     SR  100  50   0  \n",
       "0   21367  86.23   49  96  20  \n",
       "1   18048  78.86   25  93  15  \n",
       "2   17046  80.39   30  82  20  \n",
       "3   14725  91.20   28  68  34  \n",
       "4   16020  78.96   19  77  28  \n",
       "..    ...    ...  ...  ..  ..  \n",
       "74   7908  64.92   11  31   3  \n",
       "75   6945  73.75    0  42   6  \n",
       "76   6614  76.98    5  26   7  \n",
       "77   5504  92.44    6  30  15  \n",
       "78   6252  81.25    3  23  14  \n",
       "\n",
       "[79 rows x 13 columns]>"
      ]
     },
     "execution_count": 6,
     "metadata": {},
     "output_type": "execute_result"
    }
   ],
   "source": [
    "df.describe"
   ]
  },
  {
   "cell_type": "code",
   "execution_count": 10,
   "id": "5394ac4b-7437-4555-b25e-ae6cbb1aeab8",
   "metadata": {},
   "outputs": [
    {
     "name": "stdout",
     "output_type": "stream",
     "text": [
      "Players in the same cluster as Virat Kohli:\n",
      "0        SR Tendulkar (INDIA)\n",
      "13      MS Dhoni (Asia/INDIA)\n",
      "15    AB de Villiers (Afr/SA)\n",
      "25            V Kohli (INDIA)\n",
      "34               HM Amla (SA)\n",
      "38             MG Bevan (AUS)\n",
      "42          IVA Richards (WI)\n",
      "46           LRPL Taylor (NZ)\n",
      "63            MJ Guptill (NZ)\n",
      "64           MEK Hussey (AUS)\n",
      "65          RG Sharma (INDIA)\n",
      "Name: Player, dtype: object\n"
     ]
    }
   ],
   "source": [
    "# Preprocessing: Select relevant features (assuming runs, centuries, etc., are the columns to use)\n",
    "features = df[['Ave', 'SR']]  # Example columns, replace with the actual columns in your dataset\n",
    "\n",
    "# Standardize the data\n",
    "scaler = StandardScaler()\n",
    "scaled_features = scaler.fit_transform(features)\n",
    "\n",
    "# Apply K-Means clustering\n",
    "kmeans = KMeans(n_clusters=4, random_state=42)\n",
    "df['Cluster'] = kmeans.fit_predict(scaled_features)\n",
    "\n",
    "# Find the cluster of Virat Kohli\n",
    "virat_cluster = df[df['Player'] == 'V Kohli (INDIA)']['Cluster'].values[0]\n",
    "\n",
    "# Find all players in the same cluster as Virat Kohli\n",
    "same_cluster_players = df[df['Cluster'] == virat_cluster]['Player']\n",
    "\n",
    "print(\"Players in the same cluster as Virat Kohli:\")\n",
    "print(same_cluster_players)"
   ]
  }
 ],
 "metadata": {
  "kernelspec": {
   "display_name": "Python 3 (ipykernel)",
   "language": "python",
   "name": "python3"
  },
  "language_info": {
   "codemirror_mode": {
    "name": "ipython",
    "version": 3
   },
   "file_extension": ".py",
   "mimetype": "text/x-python",
   "name": "python",
   "nbconvert_exporter": "python",
   "pygments_lexer": "ipython3",
   "version": "3.12.5"
  }
 },
 "nbformat": 4,
 "nbformat_minor": 5
}
