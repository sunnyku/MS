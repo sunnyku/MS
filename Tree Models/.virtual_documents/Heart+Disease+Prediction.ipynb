# Importing the required libraries
import pandas as pd, numpy as np
import matplotlib.pyplot as plt, seaborn as sns
get_ipython().run_line_magic("matplotlib", " inline")


# Reading the csv file and putting it into 'df' object.
df = pd.read_csv('heart_v2.csv')


df.columns


df.head()


# Putting feature variable to X
X = df.drop('heart disease',axis=1)

# Putting response variable to y
y = df['heart disease']


from sklearn.model_selection import train_test_split


X_train, X_test, y_train, y_test = train_test_split(X, y, train_size=0.7, random_state=42)
X_train.shape, X_test.shape





from sklearn.tree import DecisionTreeClassifier


dt = DecisionTreeClassifier(max_depth=3)
dt.fit(X_train, y_train)


#!pip install six


# Importing required packages for visualization
from IPython.display import Image  
from six import StringIO
from sklearn.tree import export_graphviz
import pydotplus, graphviz


# plotting tree with max_depth=3
dot_data = StringIO()  

export_graphviz(dt, out_file=dot_data, filled=True, rounded=True,
                feature_names=X.columns, 
                class_names=['No Disease', "Disease"])

graph = pydotplus.graph_from_dot_data(dot_data.getvalue())
Image(graph.create_png())
#Image(graph.create_png(),width=800,height=900)
#graph.write_pdf("dt_heartdisease.pdf")





y_train_pred = dt.predict(X_train)
y_test_pred = dt.predict(X_test)


from sklearn.metrics import confusion_matrix, accuracy_score


print(accuracy_score(y_train, y_train_pred))
confusion_matrix(y_train, y_train_pred)


print(accuracy_score(y_test, y_test_pred))
confusion_matrix(y_test, y_test_pred)



